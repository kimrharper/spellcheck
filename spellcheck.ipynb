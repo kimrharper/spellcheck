{
 "cells": [
  {
   "cell_type": "markdown",
   "metadata": {},
   "source": [
    "# Spelling Corrector Tutorial"
   ]
  },
  {
   "cell_type": "markdown",
   "metadata": {},
   "source": [
    "Link: http://norvig.com/spell-correct.html"
   ]
  },
  {
   "cell_type": "markdown",
   "metadata": {},
   "source": [
    " "
   ]
  },
  {
   "cell_type": "code",
   "execution_count": 3,
   "metadata": {},
   "outputs": [],
   "source": [
    "import re\n",
    "from collections import Counter"
   ]
  },
  {
   "cell_type": "code",
   "execution_count": 4,
   "metadata": {},
   "outputs": [],
   "source": [
    "def words(text): return re.findall(r'\\w+', text.lower())"
   ]
  },
  {
   "cell_type": "code",
   "execution_count": 5,
   "metadata": {},
   "outputs": [],
   "source": [
    "# populates the data set with real corpora...could be expanded \n",
    "WORDS = Counter(words(open('big.txt').read()))"
   ]
  },
  {
   "cell_type": "code",
   "execution_count": 123,
   "metadata": {},
   "outputs": [],
   "source": [
    "def P(word, N=sum(WORDS.values())): \n",
    "    # Calculates the frequency count a word occurs in the overall WORDS list (i.e. 'the' has a high percentage)\n",
    "    return WORDS[word] / N"
   ]
  },
  {
   "cell_type": "code",
   "execution_count": 153,
   "metadata": {},
   "outputs": [],
   "source": [
    "def correction(word): \n",
    "    # Collects list of possible words only exist in WORDS and checks probability\n",
    "    wordlist = candidates(word)\n",
    "    finalcorrection = max(wordlist)\n",
    "    \n",
    "    possiblechoices = {}\n",
    "    \n",
    "    for w in wordlist:\n",
    "        possiblechoices[w] = P(w)\n",
    "        \n",
    "    return finalcorrection, possiblechoices"
   ]
  },
  {
   "cell_type": "code",
   "execution_count": 154,
   "metadata": {},
   "outputs": [],
   "source": [
    "def candidates(word): \n",
    "    \"Generate possible spelling corrections for word.\"\n",
    "    answer = (known([word]) or known(edits1(word)) or known(edits2(word)) or [word])\n",
    "    return answer"
   ]
  },
  {
   "cell_type": "code",
   "execution_count": 155,
   "metadata": {},
   "outputs": [],
   "source": [
    "def known(words): \n",
    "    \"The subset of `words` that appear in the dictionary of WORDS.\"\n",
    "    return set(w for w in words if w in WORDS)"
   ]
  },
  {
   "cell_type": "code",
   "execution_count": 156,
   "metadata": {},
   "outputs": [],
   "source": [
    "def edits1(word):\n",
    "    \"All edits that are one edit away from `word`.\"\n",
    "    letters    = 'abcdefghijklmnopqrstuvwxyz'\n",
    "    splits     = [(word[:i], word[i:])    for i in range(len(word) + 1)]\n",
    "    deletes    = [L + R[1:]               for L, R in splits if R]\n",
    "    transposes = [L + R[1] + R[0] + R[2:] for L, R in splits if len(R)>1]\n",
    "    replaces   = [L + c + R[1:]           for L, R in splits if R for c in letters]\n",
    "    inserts    = [L + c + R               for L, R in splits for c in letters]\n",
    "    print('Deletes: {}, Transposes: {}, Replaces: {}, Inserts: {}'.format(deletes,transposes,replaces,inserts))\n",
    "    return set(deletes + transposes + replaces + inserts)"
   ]
  },
  {
   "cell_type": "code",
   "execution_count": 157,
   "metadata": {},
   "outputs": [],
   "source": [
    "def edits2(word):\n",
    "    \"All edits that are two edits away from `word`.\"\n",
    "    return (e2 for e1 in edits1(word) for e2 in edits1(e1))"
   ]
  },
  {
   "cell_type": "code",
   "execution_count": 158,
   "metadata": {},
   "outputs": [
    {
     "name": "stdout",
     "output_type": "stream",
     "text": [
      "Deletes: ['ten', 'aen', 'atn', 'ate'], Transposes: ['taen', 'aetn', 'atne'], Replaces: ['aten', 'bten', 'cten', 'dten', 'eten', 'ften', 'gten', 'hten', 'iten', 'jten', 'kten', 'lten', 'mten', 'nten', 'oten', 'pten', 'qten', 'rten', 'sten', 'tten', 'uten', 'vten', 'wten', 'xten', 'yten', 'zten', 'aaen', 'aben', 'acen', 'aden', 'aeen', 'afen', 'agen', 'ahen', 'aien', 'ajen', 'aken', 'alen', 'amen', 'anen', 'aoen', 'apen', 'aqen', 'aren', 'asen', 'aten', 'auen', 'aven', 'awen', 'axen', 'ayen', 'azen', 'atan', 'atbn', 'atcn', 'atdn', 'aten', 'atfn', 'atgn', 'athn', 'atin', 'atjn', 'atkn', 'atln', 'atmn', 'atnn', 'aton', 'atpn', 'atqn', 'atrn', 'atsn', 'attn', 'atun', 'atvn', 'atwn', 'atxn', 'atyn', 'atzn', 'atea', 'ateb', 'atec', 'ated', 'atee', 'atef', 'ateg', 'ateh', 'atei', 'atej', 'atek', 'atel', 'atem', 'aten', 'ateo', 'atep', 'ateq', 'ater', 'ates', 'atet', 'ateu', 'atev', 'atew', 'atex', 'atey', 'atez'], Inserts: ['aaten', 'baten', 'caten', 'daten', 'eaten', 'faten', 'gaten', 'haten', 'iaten', 'jaten', 'katen', 'laten', 'maten', 'naten', 'oaten', 'paten', 'qaten', 'raten', 'saten', 'taten', 'uaten', 'vaten', 'waten', 'xaten', 'yaten', 'zaten', 'aaten', 'abten', 'acten', 'adten', 'aeten', 'aften', 'agten', 'ahten', 'aiten', 'ajten', 'akten', 'alten', 'amten', 'anten', 'aoten', 'apten', 'aqten', 'arten', 'asten', 'atten', 'auten', 'avten', 'awten', 'axten', 'ayten', 'azten', 'ataen', 'atben', 'atcen', 'atden', 'ateen', 'atfen', 'atgen', 'athen', 'atien', 'atjen', 'atken', 'atlen', 'atmen', 'atnen', 'atoen', 'atpen', 'atqen', 'atren', 'atsen', 'atten', 'atuen', 'atven', 'atwen', 'atxen', 'atyen', 'atzen', 'atean', 'atebn', 'atecn', 'atedn', 'ateen', 'atefn', 'ategn', 'atehn', 'atein', 'atejn', 'atekn', 'ateln', 'atemn', 'atenn', 'ateon', 'atepn', 'ateqn', 'atern', 'atesn', 'atetn', 'ateun', 'atevn', 'atewn', 'atexn', 'ateyn', 'atezn', 'atena', 'atenb', 'atenc', 'atend', 'atene', 'atenf', 'ateng', 'atenh', 'ateni', 'atenj', 'atenk', 'atenl', 'atenm', 'atenn', 'ateno', 'atenp', 'atenq', 'atenr', 'atens', 'atent', 'atenu', 'atenv', 'atenw', 'atenx', 'ateny', 'atenz']\n",
      "('ten', {'ate': 1.8824204341220077e-05, 'aden': 8.963906829152417e-07, 'eaten': 1.6135032292474352e-05, 'aren': 1.7031422975389594e-05, 'ten': 0.00019630955955843795, 'amen': 8.963906829152417e-07})\n"
     ]
    }
   ],
   "source": [
    "print(correction('aten'))"
   ]
  },
  {
   "cell_type": "code",
   "execution_count": null,
   "metadata": {},
   "outputs": [],
   "source": []
  },
  {
   "cell_type": "code",
   "execution_count": null,
   "metadata": {},
   "outputs": [],
   "source": []
  }
 ],
 "metadata": {
  "kernelspec": {
   "display_name": "Python 3",
   "language": "python",
   "name": "python3"
  },
  "language_info": {
   "codemirror_mode": {
    "name": "ipython",
    "version": 3
   },
   "file_extension": ".py",
   "mimetype": "text/x-python",
   "name": "python",
   "nbconvert_exporter": "python",
   "pygments_lexer": "ipython3",
   "version": "3.6.5"
  }
 },
 "nbformat": 4,
 "nbformat_minor": 2
}
